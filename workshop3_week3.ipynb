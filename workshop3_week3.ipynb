{
  "nbformat": 4,
  "nbformat_minor": 0,
  "metadata": {
    "colab": {
      "provenance": []
    },
    "kernelspec": {
      "name": "python3",
      "display_name": "Python 3"
    },
    "language_info": {
      "name": "python"
    }
  },
  "cells": [
    {
      "cell_type": "code",
      "source": [
        "import pandas as pd\n",
        "\n",
        "# Load Titanic dataset\n",
        "titanic_df = pd.read_csv(\"/content/drive/MyDrive/dataset/Copy of Titanic-Dataset.csv\")\n",
        "\n",
        "# Check the basic info of the dataset\n",
        "titanic_df.info()\n"
      ],
      "metadata": {
        "id": "UDKBzRxNBdRv",
        "colab": {
          "base_uri": "https://localhost:8080/"
        },
        "outputId": "9213e8f3-9b72-444e-f01f-2a3b01287f35"
      },
      "execution_count": null,
      "outputs": [
        {
          "output_type": "stream",
          "name": "stdout",
          "text": [
            "<class 'pandas.core.frame.DataFrame'>\n",
            "RangeIndex: 891 entries, 0 to 890\n",
            "Data columns (total 12 columns):\n",
            " #   Column       Non-Null Count  Dtype  \n",
            "---  ------       --------------  -----  \n",
            " 0   PassengerId  891 non-null    int64  \n",
            " 1   Survived     891 non-null    int64  \n",
            " 2   Pclass       891 non-null    int64  \n",
            " 3   Name         891 non-null    object \n",
            " 4   Sex          891 non-null    object \n",
            " 5   Age          714 non-null    float64\n",
            " 6   SibSp        891 non-null    int64  \n",
            " 7   Parch        891 non-null    int64  \n",
            " 8   Ticket       891 non-null    object \n",
            " 9   Fare         891 non-null    float64\n",
            " 10  Cabin        204 non-null    object \n",
            " 11  Embarked     889 non-null    object \n",
            "dtypes: float64(2), int64(5), object(5)\n",
            "memory usage: 83.7+ KB\n"
          ]
        }
      ]
    },
    {
      "cell_type": "code",
      "source": [
        "# Create fare DataFrame\n",
        "fare = titanic_df[['Fare']]\n",
        "print(fare.head())\n"
      ],
      "metadata": {
        "id": "VLbowHevBn4I",
        "colab": {
          "base_uri": "https://localhost:8080/"
        },
        "outputId": "8cc998fe-418a-4681-8f43-73d9d490855a"
      },
      "execution_count": null,
      "outputs": [
        {
          "output_type": "stream",
          "name": "stdout",
          "text": [
            "      Fare\n",
            "0   7.2500\n",
            "1  71.2833\n",
            "2   7.9250\n",
            "3  53.1000\n",
            "4   8.0500\n"
          ]
        }
      ]
    },
    {
      "cell_type": "code",
      "source": [
        "# Create class_age DataFrame\n",
        "class_age = titanic_df[['Pclass', 'Age']]\n",
        "print(class_age.head())\n"
      ],
      "metadata": {
        "id": "GDe6M9WaBri4",
        "colab": {
          "base_uri": "https://localhost:8080/"
        },
        "outputId": "419ada66-1eaa-4a97-d936-88b3ee840c2b"
      },
      "execution_count": null,
      "outputs": [
        {
          "output_type": "stream",
          "name": "stdout",
          "text": [
            "   Pclass   Age\n",
            "0       3  22.0\n",
            "1       1  38.0\n",
            "2       3  26.0\n",
            "3       1  35.0\n",
            "4       3  35.0\n"
          ]
        }
      ]
    },
    {
      "cell_type": "code",
      "source": [
        "# Create survived_gender DataFrame\n",
        "survived_gender = titanic_df[['Survived', 'Sex']]\n",
        "print(survived_gender.head())\n"
      ],
      "metadata": {
        "id": "b0QO4SHbBume",
        "colab": {
          "base_uri": "https://localhost:8080/"
        },
        "outputId": "5544b173-f15f-4210-80a6-b1a9947efbce"
      },
      "execution_count": null,
      "outputs": [
        {
          "output_type": "stream",
          "name": "stdout",
          "text": [
            "   Survived     Sex\n",
            "0         0    male\n",
            "1         1  female\n",
            "2         1  female\n",
            "3         1  female\n",
            "4         0    male\n"
          ]
        }
      ]
    },
    {
      "cell_type": "code",
      "source": [
        "# Filter for passengers with fare > 100\n",
        "fare_gt_100 = titanic_df[titanic_df['Fare'] > 100]\n",
        "print(fare_gt_100)\n"
      ],
      "metadata": {
        "id": "5BBOSPUyBvgs",
        "colab": {
          "base_uri": "https://localhost:8080/"
        },
        "outputId": "cb7c51d5-8a12-4a8a-da3a-bcaea4e6862f"
      },
      "execution_count": null,
      "outputs": [
        {
          "output_type": "stream",
          "name": "stdout",
          "text": [
            "     PassengerId  Survived  Pclass  \\\n",
            "27            28         0       1   \n",
            "31            32         1       1   \n",
            "88            89         1       1   \n",
            "118          119         0       1   \n",
            "195          196         1       1   \n",
            "215          216         1       1   \n",
            "258          259         1       1   \n",
            "268          269         1       1   \n",
            "269          270         1       1   \n",
            "297          298         0       1   \n",
            "299          300         1       1   \n",
            "305          306         1       1   \n",
            "306          307         1       1   \n",
            "307          308         1       1   \n",
            "311          312         1       1   \n",
            "318          319         1       1   \n",
            "319          320         1       1   \n",
            "325          326         1       1   \n",
            "332          333         0       1   \n",
            "334          335         1       1   \n",
            "337          338         1       1   \n",
            "341          342         1       1   \n",
            "373          374         0       1   \n",
            "377          378         0       1   \n",
            "380          381         1       1   \n",
            "390          391         1       1   \n",
            "393          394         1       1   \n",
            "435          436         1       1   \n",
            "438          439         0       1   \n",
            "498          499         0       1   \n",
            "505          506         0       1   \n",
            "527          528         0       1   \n",
            "537          538         1       1   \n",
            "544          545         0       1   \n",
            "550          551         1       1   \n",
            "557          558         0       1   \n",
            "581          582         1       1   \n",
            "609          610         1       1   \n",
            "659          660         0       1   \n",
            "660          661         1       1   \n",
            "679          680         1       1   \n",
            "689          690         1       1   \n",
            "698          699         0       1   \n",
            "700          701         1       1   \n",
            "708          709         1       1   \n",
            "716          717         1       1   \n",
            "730          731         1       1   \n",
            "737          738         1       1   \n",
            "742          743         1       1   \n",
            "763          764         1       1   \n",
            "779          780         1       1   \n",
            "802          803         1       1   \n",
            "856          857         1       1   \n",
            "\n",
            "                                                  Name     Sex    Age  SibSp  \\\n",
            "27                      Fortune, Mr. Charles Alexander    male  19.00      3   \n",
            "31      Spencer, Mrs. William Augustus (Marie Eugenie)  female    NaN      1   \n",
            "88                          Fortune, Miss. Mabel Helen  female  23.00      3   \n",
            "118                           Baxter, Mr. Quigg Edmond    male  24.00      0   \n",
            "195                               Lurette, Miss. Elise  female  58.00      0   \n",
            "215                            Newell, Miss. Madeleine  female  31.00      1   \n",
            "258                                   Ward, Miss. Anna  female  35.00      0   \n",
            "268      Graham, Mrs. William Thompson (Edith Junkins)  female  58.00      0   \n",
            "269                             Bissette, Miss. Amelia  female  35.00      0   \n",
            "297                       Allison, Miss. Helen Loraine  female   2.00      1   \n",
            "299    Baxter, Mrs. James (Helene DeLaudeniere Chaput)  female  50.00      0   \n",
            "305                     Allison, Master. Hudson Trevor    male   0.92      1   \n",
            "306                            Fleming, Miss. Margaret  female    NaN      0   \n",
            "307  Penasco y Castellana, Mrs. Victor de Satode (M...  female  17.00      1   \n",
            "311                         Ryerson, Miss. Emily Borie  female  18.00      2   \n",
            "318                           Wick, Miss. Mary Natalie  female  31.00      0   \n",
            "319  Spedden, Mrs. Frederic Oakley (Margaretta Corn...  female  40.00      1   \n",
            "325                           Young, Miss. Marie Grice  female  36.00      0   \n",
            "332                          Graham, Mr. George Edward    male  38.00      0   \n",
            "334  Frauenthal, Mrs. Henry William (Clara Heinshei...  female    NaN      1   \n",
            "337                    Burns, Miss. Elizabeth Margaret  female  41.00      0   \n",
            "341                     Fortune, Miss. Alice Elizabeth  female  24.00      3   \n",
            "373                                Ringhini, Mr. Sante    male  22.00      0   \n",
            "377                          Widener, Mr. Harry Elkins    male  27.00      0   \n",
            "380                              Bidois, Miss. Rosalie  female  42.00      0   \n",
            "390                         Carter, Mr. William Ernest    male  36.00      1   \n",
            "393                             Newell, Miss. Marjorie  female  23.00      1   \n",
            "435                          Carter, Miss. Lucile Polk  female  14.00      1   \n",
            "438                                  Fortune, Mr. Mark    male  64.00      1   \n",
            "498    Allison, Mrs. Hudson J C (Bessie Waldo Daniels)  female  25.00      1   \n",
            "505         Penasco y Castellana, Mr. Victor de Satode    male  18.00      1   \n",
            "527                                 Farthing, Mr. John    male    NaN      0   \n",
            "537                                LeRoy, Miss. Bertha  female  30.00      0   \n",
            "544                         Douglas, Mr. Walter Donald    male  50.00      1   \n",
            "550                        Thayer, Mr. John Borland Jr    male  17.00      0   \n",
            "557                                Robbins, Mr. Victor    male    NaN      0   \n",
            "581  Thayer, Mrs. John Borland (Marian Longstreth M...  female  39.00      1   \n",
            "609                          Shutes, Miss. Elizabeth W  female  40.00      0   \n",
            "659                         Newell, Mr. Arthur Webster    male  58.00      0   \n",
            "660                      Frauenthal, Dr. Henry William    male  50.00      2   \n",
            "679                 Cardeza, Mr. Thomas Drake Martinez    male  36.00      0   \n",
            "689                  Madill, Miss. Georgette Alexandra  female  15.00      0   \n",
            "698                           Thayer, Mr. John Borland    male  49.00      1   \n",
            "700  Astor, Mrs. John Jacob (Madeleine Talmadge Force)  female  18.00      1   \n",
            "708                               Cleaver, Miss. Alice  female  22.00      0   \n",
            "716                      Endres, Miss. Caroline Louise  female  38.00      0   \n",
            "730                      Allen, Miss. Elisabeth Walton  female  29.00      0   \n",
            "737                             Lesurer, Mr. Gustave J    male  35.00      0   \n",
            "742              Ryerson, Miss. Susan Parker \"Suzette\"  female  21.00      2   \n",
            "763          Carter, Mrs. William Ernest (Lucile Polk)  female  36.00      1   \n",
            "779  Robert, Mrs. Edward Scott (Elisabeth Walton Mc...  female  43.00      0   \n",
            "802                Carter, Master. William Thornton II    male  11.00      1   \n",
            "856         Wick, Mrs. George Dennick (Mary Hitchcock)  female  45.00      1   \n",
            "\n",
            "     Parch    Ticket      Fare            Cabin Embarked  \n",
            "27       2     19950  263.0000      C23 C25 C27        S  \n",
            "31       0  PC 17569  146.5208              B78        C  \n",
            "88       2     19950  263.0000      C23 C25 C27        S  \n",
            "118      1  PC 17558  247.5208          B58 B60        C  \n",
            "195      0  PC 17569  146.5208              B80        C  \n",
            "215      0     35273  113.2750              D36        C  \n",
            "258      0  PC 17755  512.3292              NaN        C  \n",
            "268      1  PC 17582  153.4625             C125        S  \n",
            "269      0  PC 17760  135.6333              C99        S  \n",
            "297      2    113781  151.5500          C22 C26        S  \n",
            "299      1  PC 17558  247.5208          B58 B60        C  \n",
            "305      2    113781  151.5500          C22 C26        S  \n",
            "306      0     17421  110.8833              NaN        C  \n",
            "307      0  PC 17758  108.9000              C65        C  \n",
            "311      2  PC 17608  262.3750  B57 B59 B63 B66        C  \n",
            "318      2     36928  164.8667               C7        S  \n",
            "319      1     16966  134.5000              E34        C  \n",
            "325      0  PC 17760  135.6333              C32        C  \n",
            "332      1  PC 17582  153.4625              C91        S  \n",
            "334      0  PC 17611  133.6500              NaN        S  \n",
            "337      0     16966  134.5000              E40        C  \n",
            "341      2     19950  263.0000      C23 C25 C27        S  \n",
            "373      0  PC 17760  135.6333              NaN        C  \n",
            "377      2    113503  211.5000              C82        C  \n",
            "380      0  PC 17757  227.5250              NaN        C  \n",
            "390      2    113760  120.0000          B96 B98        S  \n",
            "393      0     35273  113.2750              D36        C  \n",
            "435      2    113760  120.0000          B96 B98        S  \n",
            "438      4     19950  263.0000      C23 C25 C27        S  \n",
            "498      2    113781  151.5500          C22 C26        S  \n",
            "505      0  PC 17758  108.9000              C65        C  \n",
            "527      0  PC 17483  221.7792              C95        S  \n",
            "537      0  PC 17761  106.4250              NaN        C  \n",
            "544      0  PC 17761  106.4250              C86        C  \n",
            "550      2     17421  110.8833              C70        C  \n",
            "557      0  PC 17757  227.5250              NaN        C  \n",
            "581      1     17421  110.8833              C68        C  \n",
            "609      0  PC 17582  153.4625             C125        S  \n",
            "659      2     35273  113.2750              D48        C  \n",
            "660      0  PC 17611  133.6500              NaN        S  \n",
            "679      1  PC 17755  512.3292      B51 B53 B55        C  \n",
            "689      1     24160  211.3375               B5        S  \n",
            "698      1     17421  110.8833              C68        C  \n",
            "700      0  PC 17757  227.5250          C62 C64        C  \n",
            "708      0    113781  151.5500              NaN        S  \n",
            "716      0  PC 17757  227.5250              C45        C  \n",
            "730      0     24160  211.3375               B5        S  \n",
            "737      0  PC 17755  512.3292             B101        C  \n",
            "742      2  PC 17608  262.3750  B57 B59 B63 B66        C  \n",
            "763      2    113760  120.0000          B96 B98        S  \n",
            "779      1     24160  211.3375               B3        S  \n",
            "802      2    113760  120.0000          B96 B98        S  \n",
            "856      1     36928  164.8667              NaN        S  \n"
          ]
        }
      ]
    },
    {
      "cell_type": "code",
      "source": [
        "# Filter for passengers in class 1\n",
        "first_class = titanic_df[titanic_df['Pclass'] == 1]\n",
        "print(first_class)\n"
      ],
      "metadata": {
        "id": "BTBFRH7fBxi_"
      },
      "execution_count": null,
      "outputs": []
    },
    {
      "cell_type": "code",
      "source": [
        "# Filter for female passengers under 18\n",
        "female_under_18 = titanic_df[(titanic_df['Age'] < 18) & (titanic_df['Sex'] == 'female')]\n",
        "print(female_under_18)\n"
      ],
      "metadata": {
        "id": "fw6Izxn1BymA"
      },
      "execution_count": null,
      "outputs": []
    },
    {
      "cell_type": "code",
      "source": [
        "# Filter for passengers who boarded at Cherbourg or Southampton\n",
        "embarked_c_or_s = titanic_df[titanic_df['Embarked'].isin(['C', 'S'])]\n",
        "print(embarked_c_or_s)\n"
      ],
      "metadata": {
        "id": "EYX-p-JfB1kY"
      },
      "execution_count": null,
      "outputs": []
    },
    {
      "cell_type": "code",
      "source": [
        "# Filter for passengers in class 1 or class 2\n",
        "first_second_class = titanic_df[titanic_df['Pclass'].isin([1, 2])]\n",
        "print(first_second_class)\n"
      ],
      "metadata": {
        "id": "SZlY2qkVB38M"
      },
      "execution_count": null,
      "outputs": []
    },
    {
      "cell_type": "code",
      "source": [
        "# Fill missing values in Age column with the median\n",
        "titanic_df['Age'].fillna(titanic_df['Age'].median(), inplace=True)\n",
        "\n",
        "# Create fare_per_year column\n",
        "titanic_df['fare_per_year'] = titanic_df['Fare'] / titanic_df['Age']\n"
      ],
      "metadata": {
        "id": "Y9_kcy37B5eg"
      },
      "execution_count": null,
      "outputs": []
    },
    {
      "cell_type": "code",
      "source": [
        "# Subset for fare_per_year > 5\n",
        "high_fare_age = titanic_df[titanic_df['fare_per_year'] > 5]\n",
        "print(high_fare_age)\n"
      ],
      "metadata": {
        "id": "VRzacwwuB69z"
      },
      "execution_count": null,
      "outputs": []
    },
    {
      "cell_type": "code",
      "source": [
        "# Sort by fare_per_year descending\n",
        "high_fare_age_srt = high_fare_age.sort_values(by='fare_per_year', ascending=False)\n",
        "print(high_fare_age_srt)\n"
      ],
      "metadata": {
        "id": "INXz2vsnB8zw"
      },
      "execution_count": null,
      "outputs": []
    },
    {
      "cell_type": "code",
      "source": [
        "# Select Name and fare_per_year columns\n",
        "result = high_fare_age_srt[['Name', 'fare_per_year']]\n",
        "print(result)\n"
      ],
      "metadata": {
        "id": "ZoAjvdGACFek"
      },
      "execution_count": null,
      "outputs": []
    },
    {
      "cell_type": "code",
      "source": [
        "# Create fare_per_class column\n",
        "titanic_df['fare_per_class'] = titanic_df['Fare'] / titanic_df['Pclass']\n"
      ],
      "metadata": {
        "id": "95iLBrGdCGpX"
      },
      "execution_count": null,
      "outputs": []
    },
    {
      "cell_type": "code",
      "source": [
        "# Filter for adult males\n",
        "adult_males = titanic_df[(titanic_df['Sex'] == 'male') & (titanic_df['Age'] >= 18)]\n",
        "print(adult_males)\n"
      ],
      "metadata": {
        "id": "afgnelCJCHlQ"
      },
      "execution_count": null,
      "outputs": []
    },
    {
      "cell_type": "code",
      "source": [
        "# Sort by fare_per_class descending\n",
        "adult_males_srt = adult_males.sort_values(by='fare_per_class', ascending=False)\n",
        "print(adult_males_srt)\n"
      ],
      "metadata": {
        "id": "QLc0xwDdCI6x"
      },
      "execution_count": null,
      "outputs": []
    },
    {
      "cell_type": "code",
      "source": [
        "# Select relevant columns\n",
        "result = adult_males_srt[['Name', 'Age', 'fare_per_class']]\n",
        "print(result)\n"
      ],
      "metadata": {
        "id": "_x4N_akmCJ2Z"
      },
      "execution_count": null,
      "outputs": []
    },
    {
      "cell_type": "code",
      "source": [
        "# Total fare paid by all passengers\n",
        "total_fare = titanic_df['Fare'].sum()\n",
        "print(total_fare)\n"
      ],
      "metadata": {
        "id": "ZlL50t09CK2N"
      },
      "execution_count": null,
      "outputs": []
    },
    {
      "cell_type": "code",
      "source": [
        "# Total fare by class\n",
        "fare_first_class = titanic_df[titanic_df['Pclass'] == 1]['Fare'].sum()\n",
        "fare_second_class = titanic_df[titanic_df['Pclass'] == 2]['Fare'].sum()\n",
        "fare_third_class = titanic_df[titanic_df['Pclass'] == 3]['Fare'].sum()\n",
        "\n",
        "print(fare_first_class, fare_second_class, fare_third_class)\n"
      ],
      "metadata": {
        "id": "g6zCQro2CL7V"
      },
      "execution_count": null,
      "outputs": []
    },
    {
      "cell_type": "code",
      "source": [
        "# Create a list of fare totals by class\n",
        "class_fare_totals = [fare_first_class, fare_second_class, fare_third_class]\n",
        "print(class_fare_totals)\n"
      ],
      "metadata": {
        "id": "RqqUTq3eCMn0"
      },
      "execution_count": null,
      "outputs": []
    },
    {
      "cell_type": "code",
      "source": [
        "# Proportions of fare revenue by class\n",
        "class_fare_proportion = [fare / total_fare for fare in class_fare_totals]\n",
        "print(class_fare_proportion)\n"
      ],
      "metadata": {
        "id": "jvnSfDxrCN8r"
      },
      "execution_count": null,
      "outputs": []
    },
    {
      "cell_type": "code",
      "source": [
        "# Categorize passengers by age\n",
        "titanic_df['age_group'] = pd.cut(titanic_df['Age'], bins=[0, 18, 64, float('inf')], labels=['child', 'adult', 'senior'])\n"
      ],
      "metadata": {
        "id": "_0_zRbgCCPFI"
      },
      "execution_count": null,
      "outputs": []
    },
    {
      "cell_type": "code",
      "source": [
        "# Total number of passengers\n",
        "total_passengers = len(titanic_df)\n"
      ],
      "metadata": {
        "id": "7AKxeMOkCR5C"
      },
      "execution_count": null,
      "outputs": []
    },
    {
      "cell_type": "code",
      "source": [
        "# Count passengers in each age group\n",
        "age_group_counts = titanic_df['age_group'].value_counts()\n",
        "print(age_group_counts)\n"
      ],
      "metadata": {
        "id": "RpUYNNZXCS6T"
      },
      "execution_count": null,
      "outputs": []
    },
    {
      "cell_type": "code",
      "source": [
        "# Proportions of passengers in each age group\n",
        "age_group_proportion = age_group_counts / total_passengers * 100\n",
        "print(age_group_proportion)\n"
      ],
      "metadata": {
        "id": "nb5L2ykoCUBg"
      },
      "execution_count": null,
      "outputs": []
    }
  ]
}